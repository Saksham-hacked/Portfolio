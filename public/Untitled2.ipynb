{
  "nbformat": 4,
  "nbformat_minor": 0,
  "metadata": {
    "colab": {
      "provenance": []
    },
    "kernelspec": {
      "name": "python3",
      "display_name": "Python 3"
    },
    "language_info": {
      "name": "python"
    }
  },
  "cells": [
    {
      "cell_type": "markdown",
      "source": [
        "Name - Vedansh  rollNo -23126058"
      ],
      "metadata": {
        "id": "bGO8GmZ7n4-Q"
      }
    },
    {
      "cell_type": "code",
      "execution_count": null,
      "metadata": {
        "id": "yBSuzO9YF_ip"
      },
      "outputs": [],
      "source": [
        "import numpy as np\n",
        "import pandas as pd\n",
        "from sklearn.datasets import fetch_california_housing\n",
        "from sklearn.model_selection import train_test_split\n",
        "import matplotlib.pyplot as plt"
      ]
    },
    {
      "cell_type": "markdown",
      "source": [
        "Name - Vedansh  rollNo -23126058"
      ],
      "metadata": {
        "id": "MXyBDz2eoFa8"
      }
    },
    {
      "cell_type": "code",
      "source": [
        "data = fetch_california_housing()\n",
        "df = pd.DataFrame(data.data, columns=data.feature_names)\n",
        "print(df.head())"
      ],
      "metadata": {
        "colab": {
          "base_uri": "https://localhost:8080/"
        },
        "id": "UGpf2FvvHtY-",
        "outputId": "3e24dd02-abff-4a46-a712-b622e0d81e7b"
      },
      "execution_count": null,
      "outputs": [
        {
          "output_type": "stream",
          "name": "stdout",
          "text": [
            "   MedInc  HouseAge  AveRooms  AveBedrms  Population  AveOccup  Latitude  \\\n",
            "0  8.3252      41.0  6.984127   1.023810       322.0  2.555556     37.88   \n",
            "1  8.3014      21.0  6.238137   0.971880      2401.0  2.109842     37.86   \n",
            "2  7.2574      52.0  8.288136   1.073446       496.0  2.802260     37.85   \n",
            "3  5.6431      52.0  5.817352   1.073059       558.0  2.547945     37.85   \n",
            "4  3.8462      52.0  6.281853   1.081081       565.0  2.181467     37.85   \n",
            "\n",
            "   Longitude  \n",
            "0    -122.23  \n",
            "1    -122.22  \n",
            "2    -122.24  \n",
            "3    -122.25  \n",
            "4    -122.25  \n"
          ]
        }
      ]
    },
    {
      "cell_type": "markdown",
      "source": [
        "Name - Vedansh  rollNo -23126058"
      ],
      "metadata": {
        "id": "xdHpt2MloWTQ"
      }
    },
    {
      "cell_type": "code",
      "source": [
        "X=data.data\n",
        "y = data.target\n",
        "\n",
        "print(\"The features are\", X[:5])\n",
        "print(\"Target variable\", y[:5])"
      ],
      "metadata": {
        "colab": {
          "base_uri": "https://localhost:8080/"
        },
        "id": "nNTD4bLzH8u-",
        "outputId": "18d9f140-381b-4e1f-d21a-4e8c28861f77"
      },
      "execution_count": null,
      "outputs": [
        {
          "output_type": "stream",
          "name": "stdout",
          "text": [
            "The features are [[ 8.32520000e+00  4.10000000e+01  6.98412698e+00  1.02380952e+00\n",
            "   3.22000000e+02  2.55555556e+00  3.78800000e+01 -1.22230000e+02]\n",
            " [ 8.30140000e+00  2.10000000e+01  6.23813708e+00  9.71880492e-01\n",
            "   2.40100000e+03  2.10984183e+00  3.78600000e+01 -1.22220000e+02]\n",
            " [ 7.25740000e+00  5.20000000e+01  8.28813559e+00  1.07344633e+00\n",
            "   4.96000000e+02  2.80225989e+00  3.78500000e+01 -1.22240000e+02]\n",
            " [ 5.64310000e+00  5.20000000e+01  5.81735160e+00  1.07305936e+00\n",
            "   5.58000000e+02  2.54794521e+00  3.78500000e+01 -1.22250000e+02]\n",
            " [ 3.84620000e+00  5.20000000e+01  6.28185328e+00  1.08108108e+00\n",
            "   5.65000000e+02  2.18146718e+00  3.78500000e+01 -1.22250000e+02]]\n",
            "Target variable [4.526 3.585 3.521 3.413 3.422]\n"
          ]
        }
      ]
    },
    {
      "cell_type": "markdown",
      "source": [
        "Name - Vedansh  rollNo -23126058"
      ],
      "metadata": {
        "id": "ghIIQTyuoXQy"
      }
    },
    {
      "cell_type": "code",
      "source": [
        "\n",
        "def custom_train_test_split(X, y, test_size=0.2):\n",
        "\n",
        "\n",
        "   X_train=X[:int(np.shape(X)[0]*(1-test_size))]\n",
        "   X_test=X[int(np.shape(X)[0]*(1-test_size)):]\n",
        "   y_train=y[:int(np.shape(X)[0]*(1-test_size))]\n",
        "   y_test=y[int(np.shape(X)[0]*(1-test_size)):]\n",
        "   return X_train, X_test, y_train, y_test\n"
      ],
      "metadata": {
        "id": "24u3tV36I7z9"
      },
      "execution_count": null,
      "outputs": []
    },
    {
      "cell_type": "markdown",
      "source": [
        "Name - Vedansh  rollNo -23126058"
      ],
      "metadata": {
        "id": "63Y7aJNMoYLu"
      }
    },
    {
      "cell_type": "code",
      "source": [
        "X_train, X_test, y_train, y_test=custom_train_test_split(X,y,test_size=0.2)\n",
        "print(np.shape(X_train))\n",
        "print(np.shape(X_test))"
      ],
      "metadata": {
        "colab": {
          "base_uri": "https://localhost:8080/"
        },
        "id": "-NgoCMGyJGod",
        "outputId": "ffad6916-011e-4681-c256-7599430ac7cf"
      },
      "execution_count": null,
      "outputs": [
        {
          "output_type": "stream",
          "name": "stdout",
          "text": [
            "(16512, 8)\n",
            "(4128, 8)\n"
          ]
        }
      ]
    },
    {
      "cell_type": "markdown",
      "source": [
        "Name - Vedansh  rollNo -23126058"
      ],
      "metadata": {
        "id": "Fx_2BccGoY4N"
      }
    },
    {
      "cell_type": "code",
      "source": [
        "from sklearn.model_selection import train_test_split\n",
        "\n",
        "X_train, X_test, y_train, y_test = train_test_split(X, y, test_size=0.2, random_state=42)\n",
        "print(np.shape(X_train))\n",
        "print(np.shape(X_test))"
      ],
      "metadata": {
        "colab": {
          "base_uri": "https://localhost:8080/"
        },
        "id": "8YGYb8prKcKM",
        "outputId": "99605d27-a64a-4d33-df87-255a0184dd70"
      },
      "execution_count": null,
      "outputs": [
        {
          "output_type": "stream",
          "name": "stdout",
          "text": [
            "(16512, 8)\n",
            "(4128, 8)\n"
          ]
        }
      ]
    },
    {
      "cell_type": "markdown",
      "source": [
        "Name - Vedansh  rollNo -23126058"
      ],
      "metadata": {
        "id": "wNGcjxAvoaFI"
      }
    },
    {
      "cell_type": "code",
      "source": [
        "def custom_standard_scaler(X):\n",
        "    X_scaled = (X - np.mean(X, axis=0)) / np.std(X, axis=0)\n",
        "    mean = np.mean(X, axis=0)\n",
        "    std = np.std(X, axis=0)\n",
        "    return X_scaled, mean, std"
      ],
      "metadata": {
        "id": "YbcCb7XOKrLz"
      },
      "execution_count": null,
      "outputs": []
    },
    {
      "cell_type": "markdown",
      "source": [
        "Name - Vedansh  rollNo -23126058"
      ],
      "metadata": {
        "id": "uevlnGYOobDc"
      }
    },
    {
      "cell_type": "code",
      "source": [
        "X_train_scaled, train_mean, train_std = custom_standard_scaler(X_train)\n",
        "print(X_train_scaled[:5])"
      ],
      "metadata": {
        "colab": {
          "base_uri": "https://localhost:8080/"
        },
        "id": "MaLi_93sK4CT",
        "outputId": "decd7b53-b8fe-48f6-ee91-ed7bcdd2f551"
      },
      "execution_count": null,
      "outputs": [
        {
          "output_type": "stream",
          "name": "stdout",
          "text": [
            "[[-0.326196    0.34849025 -0.17491646 -0.20836543  0.76827628  0.05137609\n",
            "  -1.3728112   1.27258656]\n",
            " [-0.03584338  1.61811813 -0.40283542 -0.12853018 -0.09890135 -0.11736222\n",
            "  -0.87669601  0.70916212]\n",
            " [ 0.14470145 -1.95271028  0.08821601 -0.25753771 -0.44981806 -0.03227969\n",
            "  -0.46014647 -0.44760309]\n",
            " [-1.01786438  0.58654547 -0.60001532 -0.14515634 -0.00743434  0.07750687\n",
            "  -1.38217186  1.23269811]\n",
            " [-0.17148831  1.14200767  0.3490073   0.08662432 -0.48587717 -0.06883176\n",
            "   0.5320839  -0.10855122]]\n"
          ]
        }
      ]
    },
    {
      "cell_type": "markdown",
      "source": [
        "Name - Vedansh  rollNo -23126058"
      ],
      "metadata": {
        "id": "EqoSGrZnob8f"
      }
    },
    {
      "cell_type": "code",
      "source": [
        "from sklearn.preprocessing import StandardScaler\n",
        "\n",
        "# Initialize the StandardScaler\n",
        "scaler = StandardScaler()\n",
        "\n",
        "# Fit and transform the data (for training set)\n",
        "X_train_scaled = scaler.fit_transform(X_train)\n",
        "print(X_train_scaled[:5])\n"
      ],
      "metadata": {
        "colab": {
          "base_uri": "https://localhost:8080/"
        },
        "id": "DkurbQqiK8eK",
        "outputId": "dc548130-ca9a-44fd-d4c4-e8bfda02e85b"
      },
      "execution_count": null,
      "outputs": [
        {
          "output_type": "stream",
          "name": "stdout",
          "text": [
            "[[-0.326196    0.34849025 -0.17491646 -0.20836543  0.76827628  0.05137609\n",
            "  -1.3728112   1.27258656]\n",
            " [-0.03584338  1.61811813 -0.40283542 -0.12853018 -0.09890135 -0.11736222\n",
            "  -0.87669601  0.70916212]\n",
            " [ 0.14470145 -1.95271028  0.08821601 -0.25753771 -0.44981806 -0.03227969\n",
            "  -0.46014647 -0.44760309]\n",
            " [-1.01786438  0.58654547 -0.60001532 -0.14515634 -0.00743434  0.07750687\n",
            "  -1.38217186  1.23269811]\n",
            " [-0.17148831  1.14200767  0.3490073   0.08662432 -0.48587717 -0.06883176\n",
            "   0.5320839  -0.10855122]]\n"
          ]
        }
      ]
    },
    {
      "cell_type": "markdown",
      "source": [
        "Name - Vedansh  rollNo -23126058"
      ],
      "metadata": {
        "id": "gdvkp8eWocz0"
      }
    },
    {
      "cell_type": "code",
      "source": [
        "import numpy as np\n",
        "\n",
        "M = X_train_scaled.shape[0]  # Number of rows\n",
        "print(M)\n",
        "# Add a column of ones as the first column using vstack\n",
        "ones_column = np.ones((M,1))\n",
        "print(np.shape(ones_column))\n",
        "print(np.shape(X_train_scaled))\n",
        "X_train_scaled = np.hstack((ones_column, X_train_scaled))\n",
        "\n",
        "print(np.shape(X_train_scaled))"
      ],
      "metadata": {
        "colab": {
          "base_uri": "https://localhost:8080/"
        },
        "id": "8cEMBljTLBzn",
        "outputId": "77ee8d0a-1f20-404f-e9b5-ac5474c68d20"
      },
      "execution_count": null,
      "outputs": [
        {
          "output_type": "stream",
          "name": "stdout",
          "text": [
            "16512\n",
            "(16512, 1)\n",
            "(16512, 8)\n",
            "(16512, 9)\n"
          ]
        }
      ]
    },
    {
      "cell_type": "markdown",
      "source": [
        "Name - Vedansh  rollNo -23126058"
      ],
      "metadata": {
        "id": "xnmOPbrjodlb"
      }
    },
    {
      "cell_type": "code",
      "source": [
        "import numpy as np\n",
        "\n",
        "def compute_cost(X, y, M, theta):\n",
        "    J=np.sum((X.dot(theta)-y)**2)/(2*M)\n",
        "    return J\n",
        "\n",
        "def gradient_descent(X, y, M, theta_0, alpha, num_iters):\n",
        "    \"\"\"Python version of gradientDescent.m.\"\"\"\n",
        "    J_history = np.zeros(num_iters)\n",
        "    theta = theta_0.copy()\n",
        "    for i in range(num_iters):\n",
        "       #To be completed by student\n",
        "       J_history[i] = compute_cost(X, y, M, theta)\n",
        "       theta = theta - (alpha/M)*(X.T.dot(X.dot(theta)-y))\n",
        "\n",
        "    return theta, J_history"
      ],
      "metadata": {
        "id": "lnLrMZPCLbJ7"
      },
      "execution_count": null,
      "outputs": []
    },
    {
      "cell_type": "markdown",
      "source": [
        "Name - Vedansh  rollNo -23126058"
      ],
      "metadata": {
        "id": "3T3aTJPuoeHR"
      }
    },
    {
      "cell_type": "code",
      "source": [
        "theta = np.zeros((X_train_scaled.shape[1],1))\n",
        "print(np.shape(theta))\n",
        "alpha = 0.01  # Learning rate\n",
        "iterations = 1000\n",
        "M = X_train_scaled.shape[0]\n",
        "y_train=y_train.reshape(-1,1)\n",
        "print(np.shape(y_train))\n",
        "# Run gradient descent\n",
        "theta_optimized, cost_history = gradient_descent(X_train_scaled, y_train, M, theta, alpha, iterations)"
      ],
      "metadata": {
        "colab": {
          "base_uri": "https://localhost:8080/"
        },
        "id": "n_UhjUBJOAej",
        "outputId": "606dfeb4-a4ad-4154-f622-23e497eebc61"
      },
      "execution_count": null,
      "outputs": [
        {
          "output_type": "stream",
          "name": "stdout",
          "text": [
            "(9, 1)\n",
            "(16512, 1)\n"
          ]
        }
      ]
    },
    {
      "cell_type": "markdown",
      "source": [
        "Name - Vedansh  rollNo -23126058"
      ],
      "metadata": {
        "id": "r8SUX8Xdoe5U"
      }
    },
    {
      "cell_type": "code",
      "source": [
        "print(\"Optimized parameters:\")\n",
        "print(theta_optimized)"
      ],
      "metadata": {
        "colab": {
          "base_uri": "https://localhost:8080/"
        },
        "id": "CbX2Afk2OouH",
        "outputId": "d27cad08-8f0e-48c6-aac7-1cc33553305d"
      },
      "execution_count": null,
      "outputs": [
        {
          "output_type": "stream",
          "name": "stdout",
          "text": [
            "Optimized parameters:\n",
            "[[ 2.07185749]\n",
            " [ 0.82894365]\n",
            " [ 0.17853146]\n",
            " [-0.13794939]\n",
            " [ 0.15669182]\n",
            " [ 0.01681517]\n",
            " [-0.04522857]\n",
            " [-0.48705563]\n",
            " [-0.45147126]]\n"
          ]
        }
      ]
    },
    {
      "cell_type": "markdown",
      "source": [
        "Name - Vedansh  rollNo -23126058"
      ],
      "metadata": {
        "id": "yZcSYWsJoffK"
      }
    },
    {
      "cell_type": "code",
      "source": [
        "X_test_scaled = (X_test - train_mean) / train_std\n",
        "X_test_scaled = np.hstack((np.ones((X_test_scaled.shape[0], 1)), X_test_scaled))\n",
        "m=np.shape(X_test_scaled)[0]"
      ],
      "metadata": {
        "id": "xksh4tAdOs_y"
      },
      "execution_count": null,
      "outputs": []
    },
    {
      "cell_type": "markdown",
      "source": [
        "Name - Vedansh  rollNo -23126058"
      ],
      "metadata": {
        "id": "mOyANT7xogGq"
      }
    },
    {
      "cell_type": "code",
      "source": [
        "def evaluate_model(X, y, theta):\n",
        "    \"\"\"Evaluate model using test data\"\"\"\n",
        "    predictions = X.dot(theta)\n",
        "    #To be completed by student\n",
        "    mse = np.sum((predictions - y) ** 2) / (2 * m)\n",
        "    rmse = np.sqrt(mse)\n",
        "    return mse, rmse\n",
        "\n",
        "# Make predictions and evaluate\n",
        "test_mse, test_rmse = evaluate_model(X_test_scaled, y_test, theta_optimized)\n",
        "\n",
        "print(\"\\nModel Performance:\")\n",
        "print(f\"MSE: {test_mse:.4f}\")\n",
        "print(f\"RMSE: {test_rmse:.4f}\")"
      ],
      "metadata": {
        "colab": {
          "base_uri": "https://localhost:8080/"
        },
        "id": "FRKWV32TO37m",
        "outputId": "49616be5-7575-4910-ef9d-e1994e745884"
      },
      "execution_count": null,
      "outputs": [
        {
          "output_type": "stream",
          "name": "stdout",
          "text": [
            "\n",
            "Model Performance:\n",
            "MSE: 4189.6635\n",
            "RMSE: 64.7276\n"
          ]
        }
      ]
    },
    {
      "cell_type": "markdown",
      "source": [
        "Name - Vedansh  rollNo -23126058"
      ],
      "metadata": {
        "id": "BwfYs_u2ogyS"
      }
    },
    {
      "cell_type": "code",
      "source": [
        "from sklearn.metrics import mean_absolute_error, mean_squared_error, r2_score\n",
        "import numpy as np\n",
        "\n",
        "def evaluate_regression_model(y_true, y_pred):\n",
        "\n",
        "\n",
        "    # Mean Absolute Error (MAE)\n",
        "    mae = mean_absolute_error(y_true, y_pred)\n",
        "\n",
        "    # Mean Squared Error (MSE)\n",
        "    mse = mean_squared_error(y_true, y_pred)\n",
        "\n",
        "    # Root Mean Squared Error (RMSE)\n",
        "    rmse = np.sqrt(mse)\n",
        "\n",
        "    # R-squared (R²)\n",
        "    r2 = r2_score(y_true, y_pred)\n",
        "\n",
        "    # Return a dictionary with all metrics\n",
        "    metrics = {\n",
        "        \"Mean Absolute Error (MAE)\": mae,\n",
        "        \"Mean Squared Error (MSE)\": mse,\n",
        "        \"Root Mean Squared Error (RMSE)\": rmse,\n",
        "        \"R-squared (R²)\": r2\n",
        "    }\n",
        "\n",
        "    return metrics"
      ],
      "metadata": {
        "id": "0RnNdeAGPKCx"
      },
      "execution_count": null,
      "outputs": []
    },
    {
      "cell_type": "markdown",
      "source": [
        "Name - Vedansh  rollNo -23126058"
      ],
      "metadata": {
        "id": "R9Ybn8JgoiJa"
      }
    },
    {
      "cell_type": "code",
      "source": [
        "y_predict = X_test_scaled.dot(theta_optimized)\n",
        "metrics = evaluate_regression_model(y_test, y_predict)\n",
        "\n",
        "# Print the evaluation metrics\n",
        "for metric, value in metrics.items():\n",
        "    print(f\"{metric}: {value}\")"
      ],
      "metadata": {
        "colab": {
          "base_uri": "https://localhost:8080/"
        },
        "id": "QXyi7C13PgQy",
        "outputId": "b4cbb32e-3f24-47f9-c6d2-9e2b837b2705"
      },
      "execution_count": null,
      "outputs": [
        {
          "output_type": "stream",
          "name": "stdout",
          "text": [
            "Mean Absolute Error (MAE): 0.5476758462432642\n",
            "Mean Squared Error (MSE): 0.5671852986082032\n",
            "Root Mean Squared Error (RMSE): 0.7531170550506762\n",
            "R-squared (R²): 0.5671692517174325\n"
          ]
        }
      ]
    },
    {
      "cell_type": "markdown",
      "source": [
        "Name - Vedansh  rollNo -23126058"
      ],
      "metadata": {
        "id": "bswxtH_4oi3c"
      }
    },
    {
      "cell_type": "code",
      "source": [
        "test_size=0.2\n",
        "y_train=y[:int(np.shape(X)[0]*(1-test_size))]\n",
        "y_test=y[int(np.shape(X)[0]*(1-test_size)):]\n",
        "min1=min(y_test)\n",
        "max1=max(y_test)\n",
        "min2=min(y_train)\n",
        "max2=max(y_train)\n",
        "\n",
        "def max_min(x,y):\n",
        "  for(i,j) in zip(x,y):\n",
        "    print((i-min1)/(max1-min1),(j-min2)/(max2-min2))\n"
      ],
      "metadata": {
        "id": "9UlyYKYHVQ9Z"
      },
      "execution_count": null,
      "outputs": []
    },
    {
      "cell_type": "markdown",
      "source": [
        "Name - Vedansh  rollNo -23126058"
      ],
      "metadata": {
        "id": "70BIFBN8oj4w"
      }
    },
    {
      "cell_type": "code",
      "source": [
        "# import module\n",
        "from sklearn.preprocessing import MinMaxScaler\n",
        "\n",
        "# create data\n",
        "data = np.column_stack((X_train, y_train))\n",
        "\n",
        "# scale features\n",
        "scaler = MinMaxScaler()\n",
        "model=scaler.fit(data)\n",
        "scaled_data=model.transform(data)\n",
        "\n",
        "# print scaled features\n",
        "print(scaled_data)"
      ],
      "metadata": {
        "colab": {
          "base_uri": "https://localhost:8080/"
        },
        "id": "0jAdp-aZZBlp",
        "outputId": "e8cb0f6f-d16e-4f26-88a2-0c15c415a4ad"
      },
      "execution_count": null,
      "outputs": [
        {
          "output_type": "stream",
          "name": "stdout",
          "text": [
            "[[0.19032151 0.62745098 0.02927784 ... 0.01702128 0.72908367 0.90226638]\n",
            " [0.22845202 0.94117647 0.02541945 ... 0.12978723 0.61653386 0.70824656]\n",
            " [0.25216204 0.05882353 0.03373236 ... 0.22446809 0.38545817 0.69505074]\n",
            " ...\n",
            " [0.16789424 0.68627451 0.02196727 ... 0.15744681 0.59462151 0.3651552 ]\n",
            " [0.35994676 0.2745098  0.03904731 ... 0.53510638 0.23804781 0.25567111]\n",
            " [0.14314285 1.         0.01782502 ... 0.55531915 0.19223108 0.34515528]]\n"
          ]
        }
      ]
    },
    {
      "cell_type": "markdown",
      "source": [
        "Name - Vedansh  rollNo -23126058"
      ],
      "metadata": {
        "id": "BwNPd-EtokwI"
      }
    },
    {
      "cell_type": "code",
      "source": [
        "from sklearn.preprocessing import RobustScaler\n",
        "x= np.column_stack((X_train, y_train))\n",
        "transformer = RobustScaler().fit(X)\n",
        "transformer\n",
        "RobustScaler()\n",
        "transformer.transform(X)\n"
      ],
      "metadata": {
        "id": "r6-A-A2jaL3H",
        "colab": {
          "base_uri": "https://localhost:8080/"
        },
        "outputId": "124a4033-1394-4731-8a57-527930ca38b2"
      },
      "execution_count": null,
      "outputs": [
        {
          "output_type": "execute_result",
          "data": {
            "text/plain": [
              "array([[ 2.1975824 ,  0.63157895,  1.08893505, ..., -0.30798124,\n",
              "         0.95767196, -0.98680739],\n",
              "       [ 2.18666422, -0.42105263,  0.62606588, ..., -0.83080046,\n",
              "         0.95238095, -0.98416887],\n",
              "       [ 1.70773218,  1.21052632,  1.89804168, ..., -0.01859871,\n",
              "         0.94973545, -0.98944591],\n",
              "       ...,\n",
              "       [-0.84170929, -0.63157895, -0.0146346 , ..., -0.57767639,\n",
              "         1.36772487, -0.72031662],\n",
              "       [-0.76500677, -0.57894737,  0.06228597, ..., -0.81512066,\n",
              "         1.36772487, -0.74670185],\n",
              "       [-0.525816  , -0.68421053,  0.01587687, ..., -0.23592945,\n",
              "         1.35185185, -0.72559367]])"
            ]
          },
          "metadata": {},
          "execution_count": 22
        }
      ]
    },
    {
      "cell_type": "markdown",
      "source": [
        "Name - Vedansh  rollNo -23126058"
      ],
      "metadata": {
        "id": "0jFyKJQGoliQ"
      }
    },
    {
      "cell_type": "code",
      "source": [
        "import pandas as pd\n",
        "from sklearn.feature_selection import mutual_info_regression\n",
        "from sklearn.preprocessing import LabelEncoder\n",
        "from sklearn.model_selection import train_test_split\n",
        "from sklearn.linear_model import LinearRegression\n",
        "from sklearn.metrics import mean_absolute_error, mean_squared_error\n",
        "\n",
        "# Load dataset\n",
        "df = pd.read_csv(\"/content/drive/MyDrive/IML/house-prices-advanced-regression-techniques/train.csv\")\n",
        "\n",
        "# Drop non-informative columns\n",
        "df = df.drop(columns=[\"Id\"])\n",
        "\n",
        "# Separate target variable\n",
        "y = df[\"SalePrice\"]\n",
        "X = df.drop(columns=[\"SalePrice\"])\n",
        "\n",
        "# Encode categorical variables\n",
        "X_encoded = X.copy()\n",
        "for col in X.select_dtypes(include=[\"object\"]).columns:\n",
        "    X_encoded[col] = LabelEncoder().fit_transform(X[col].astype(str))\n",
        "\n",
        "# Handle missing values by filling with median\n",
        "X_encoded = X_encoded.fillna(X_encoded.median())\n",
        "\n",
        "# Apply Mutual Information for feature selection\n",
        "mi_scores = mutual_info_regression(X_encoded, y)\n",
        "mi_scores_series = pd.Series(mi_scores, index=X_encoded.columns).sort_values(ascending=False)\n",
        "top_5_features = mi_scores_series.head(5).index.tolist()\n",
        "\n",
        "# Select only the top 5 features\n",
        "X_selected = X_encoded[top_5_features]\n",
        "\n",
        "# Split dataset into training and test sets\n",
        "X_train, X_test, y_train, y_test = train_test_split(X_selected, y, test_size=0.2, random_state=42)\n",
        "\n",
        "# Train Linear Regression model\n",
        "model = LinearRegression()\n",
        "model.fit(X_train, y_train)\n",
        "\n",
        "\n",
        "y_pred_test = model.predict(X_test)\n",
        "\n",
        "\n",
        "mae_test = mean_absolute_error(y_test, y_pred_test)\n",
        "mse_test = mean_squared_error(y_test, y_pred_test)\n",
        "rmse_test = mse_test ** 0.5\n",
        "\n",
        "# Print results\n",
        "print(\"Mean Absolute Error (MAE) on Test Set:\", mae_test)\n",
        "print(\"Mean Squared Error (MSE) on Test Set:\", mse_test)\n",
        "print(\"Root Mean Squared Error (RMSE) on Test Set:\", rmse_test)\n"
      ],
      "metadata": {
        "colab": {
          "base_uri": "https://localhost:8080/"
        },
        "id": "0dUviOhdnqua",
        "outputId": "2632aa02-8161-402e-e16a-1bd1c501ea41"
      },
      "execution_count": 37,
      "outputs": [
        {
          "output_type": "stream",
          "name": "stdout",
          "text": [
            "Mean Absolute Error (MAE) on Test Set: 25057.704226075097\n",
            "Mean Squared Error (MSE) on Test Set: 1603033532.5896587\n",
            "Root Mean Squared Error (RMSE) on Test Set: 40037.90120110767\n"
          ]
        }
      ]
    },
    {
      "cell_type": "markdown",
      "source": [
        "Name - Vedansh  rollNo -23126058"
      ],
      "metadata": {
        "id": "bpWCB9_lomXz"
      }
    },
    {
      "cell_type": "code",
      "source": [
        "import pandas as pd\n",
        "from sklearn.feature_selection import mutual_info_regression\n",
        "from sklearn.preprocessing import LabelEncoder\n",
        "from sklearn.model_selection import train_test_split\n",
        "from sklearn.linear_model import LinearRegression\n",
        "from sklearn.metrics import mean_absolute_error, mean_squared_error\n",
        "\n",
        "# Load dataset\n",
        "df = pd.read_csv(\"/content/drive/MyDrive/IML/house-prices-advanced-regression-techniques/train.csv\")\n",
        "\n",
        "# Drop non-informative columns\n",
        "df = df.drop(columns=[\"Id\"])\n",
        "\n",
        "# Separate target variable\n",
        "y = df[\"SalePrice\"]\n",
        "X = df.drop(columns=[\"SalePrice\"])\n",
        "\n",
        "# Encode categorical variables\n",
        "X_encoded = X.copy()\n",
        "for col in X.select_dtypes(include=[\"object\"]).columns:\n",
        "    X_encoded[col] = LabelEncoder().fit_transform(X[col].astype(str))\n",
        "\n",
        "# Handle missing values by filling with median\n",
        "X_encoded = X_encoded.fillna(X_encoded.median())\n",
        "\n",
        "# Apply Mutual Information for feature selection\n",
        "mi_scores = mutual_info_regression(X_encoded, y)\n",
        "mi_scores_series = pd.Series(mi_scores, index=X_encoded.columns).sort_values(ascending=False)\n",
        "top_5_features = mi_scores_series.head(5).index.tolist()\n",
        "\n",
        "# Select only the top 5 features\n",
        "X_selected = X_encoded[top_5_features]\n",
        "\n",
        "# Split dataset\n",
        "X_train, X_test, y_train, y_test = train_test_split(X_selected, y, test_size=0.2, random_state=42)\n",
        "\n",
        "# Train Linear Regression model\n",
        "model = LinearRegression()\n",
        "model.fit(X_train, y_train)\n",
        "\n",
        "# Make predictions\n",
        "y_pred = model.predict(X_test)\n",
        "\n",
        "# Calculate error metrics\n",
        "mae = mean_absolute_error(y_test, y_pred)\n",
        "mse = mean_squared_error(y_test, y_pred)\n",
        "rmse = mse ** 0.5\n",
        "\n",
        "# Print results\n",
        "print(\"Top 5 Features:\", top_5_features)\n",
        "print(\"Mean Absolute Error (MAE):\", mae)\n",
        "print(\"Mean Squared Error (MSE):\", mse)\n",
        "print(\"Root Mean Squared Error (RMSE):\", rmse)\n",
        "\n"
      ],
      "metadata": {
        "colab": {
          "base_uri": "https://localhost:8080/"
        },
        "id": "JyKeS3SclKrx",
        "outputId": "e2c19f25-d183-49d1-af39-e205495bb75a"
      },
      "execution_count": 35,
      "outputs": [
        {
          "output_type": "stream",
          "name": "stdout",
          "text": [
            "Top 5 Features: ['OverallQual', 'Neighborhood', 'GrLivArea', 'TotalBsmtSF', 'YearBuilt']\n",
            "Mean Absolute Error (MAE): 25650.579933050733\n",
            "Mean Squared Error (MSE): 1626169410.7263362\n",
            "Root Mean Squared Error (RMSE): 40325.790887797055\n"
          ]
        }
      ]
    },
    {
      "cell_type": "markdown",
      "source": [],
      "metadata": {
        "id": "J_5Fj4PMori9"
      }
    },
    {
      "cell_type": "markdown",
      "source": [
        "From this question, we can learn the importance of feature selection and model evaluation in machine learning. Specifically:\n",
        "\n",
        "1-Feature Selection Matters – Choosing the most relevant features (using Mutual Information) helps improve model performance by reducing noise and improving interpretability.\n",
        "\n",
        "2-Data Preprocessing is Key – Handling missing values and encoding categorical data ensures that models work effectively.\n",
        "\n",
        "3-Model Training and Validation – Splitting data into training and test sets allows us to assess how well a model generalizes to unseen data.\n",
        "\n",
        "4-Error Metrics Guide Performance – Using MAE, MSE, and RMSE helps evaluate model accuracy and identify areas for improvement."
      ],
      "metadata": {
        "id": "pvA2Oz5vpIsi"
      }
    }
  ]
}